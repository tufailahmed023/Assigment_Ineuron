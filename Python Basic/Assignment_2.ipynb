{
 "cells": [
  {
   "cell_type": "markdown",
   "id": "09508dae",
   "metadata": {},
   "source": [
    "**1.What are the two values of the Boolean data type? How do you write them?**"
   ]
  },
  {
   "cell_type": "code",
   "execution_count": 2,
   "id": "517ecde7",
   "metadata": {},
   "outputs": [
    {
     "data": {
      "text/plain": [
       "True"
      ]
     },
     "execution_count": 2,
     "metadata": {},
     "output_type": "execute_result"
    }
   ],
   "source": [
    "True\n"
   ]
  },
  {
   "cell_type": "code",
   "execution_count": 3,
   "id": "652d4558",
   "metadata": {},
   "outputs": [
    {
     "data": {
      "text/plain": [
       "False"
      ]
     },
     "execution_count": 3,
     "metadata": {},
     "output_type": "execute_result"
    }
   ],
   "source": [
    "False"
   ]
  },
  {
   "cell_type": "markdown",
   "id": "ffcd2373",
   "metadata": {},
   "source": [
    "**What are the three different types of Boolean operators?**"
   ]
  },
  {
   "cell_type": "markdown",
   "id": "244e7b8e",
   "metadata": {},
   "source": [
    "* \n",
    "AND\n",
    "* \n",
    "OR \n",
    "* \n",
    "NOT"
   ]
  },
  {
   "cell_type": "markdown",
   "id": "793bd737",
   "metadata": {},
   "source": [
    "**Make a list of each Boolean operator&#39;s truth tables (i.e. every possible combination of Boolean\n",
    "values for the operator and what it evaluate ).**"
   ]
  },
  {
   "cell_type": "markdown",
   "id": "4a22cbf1",
   "metadata": {},
   "source": [
    "AND"
   ]
  },
  {
   "cell_type": "markdown",
   "id": "e6252735",
   "metadata": {},
   "source": [
    "* \n",
    "false and false = false \n",
    "* \n",
    "true and flase = false \n",
    "* \n",
    "false and true = false \n",
    "* \n",
    "true and true = true\n"
   ]
  },
  {
   "cell_type": "markdown",
   "id": "551b98b2",
   "metadata": {},
   "source": [
    "OR"
   ]
  },
  {
   "cell_type": "markdown",
   "id": "e54636bb",
   "metadata": {},
   "source": [
    "* \n",
    "true or false = true\n",
    "* \n",
    "false or true =true \n",
    "* \n",
    "false or false = false \n",
    "* \n",
    "true or true = true"
   ]
  },
  {
   "cell_type": "markdown",
   "id": "2690a9b8",
   "metadata": {},
   "source": [
    "NOT"
   ]
  },
  {
   "cell_type": "markdown",
   "id": "ec453b99",
   "metadata": {},
   "source": [
    "* \n",
    "not(3>4)= true\n",
    "* \n",
    "not(3<4)= false \n",
    "* \n",
    "not(3>=4)=true\n",
    "* \n",
    "not(3<=4)= false "
   ]
  },
  {
   "cell_type": "markdown",
   "id": "72363220",
   "metadata": {},
   "source": [
    "**What are the values of the following expressions?**"
   ]
  },
  {
   "cell_type": "code",
   "execution_count": 7,
   "id": "a4bae376",
   "metadata": {},
   "outputs": [
    {
     "data": {
      "text/plain": [
       "False"
      ]
     },
     "execution_count": 7,
     "metadata": {},
     "output_type": "execute_result"
    }
   ],
   "source": [
    "(5 > 4) and (3 == 5)"
   ]
  },
  {
   "cell_type": "code",
   "execution_count": 8,
   "id": "f2d3ab41",
   "metadata": {},
   "outputs": [
    {
     "data": {
      "text/plain": [
       "False"
      ]
     },
     "execution_count": 8,
     "metadata": {},
     "output_type": "execute_result"
    }
   ],
   "source": [
    "not (5 >4)"
   ]
  },
  {
   "cell_type": "code",
   "execution_count": 9,
   "id": "225b4f79",
   "metadata": {},
   "outputs": [
    {
     "data": {
      "text/plain": [
       "True"
      ]
     },
     "execution_count": 9,
     "metadata": {},
     "output_type": "execute_result"
    }
   ],
   "source": [
    "(5 >4) or (3 == 5)"
   ]
  },
  {
   "cell_type": "code",
   "execution_count": 10,
   "id": "b12e4e46",
   "metadata": {},
   "outputs": [
    {
     "data": {
      "text/plain": [
       "False"
      ]
     },
     "execution_count": 10,
     "metadata": {},
     "output_type": "execute_result"
    }
   ],
   "source": [
    "not ((5 > 4) or (3 == 5))"
   ]
  },
  {
   "cell_type": "code",
   "execution_count": 11,
   "id": "63cf885d",
   "metadata": {},
   "outputs": [
    {
     "data": {
      "text/plain": [
       "False"
      ]
     },
     "execution_count": 11,
     "metadata": {},
     "output_type": "execute_result"
    }
   ],
   "source": [
    "(True and True) and (True == False)"
   ]
  },
  {
   "cell_type": "code",
   "execution_count": 12,
   "id": "84a04298",
   "metadata": {},
   "outputs": [
    {
     "data": {
      "text/plain": [
       "True"
      ]
     },
     "execution_count": 12,
     "metadata": {},
     "output_type": "execute_result"
    }
   ],
   "source": [
    "(not False) or (not True)"
   ]
  },
  {
   "cell_type": "markdown",
   "id": "732a4345",
   "metadata": {},
   "source": [
    "**What are the six comparison operators?**"
   ]
  },
  {
   "cell_type": "code",
   "execution_count": 13,
   "id": "6e18ad5f",
   "metadata": {},
   "outputs": [
    {
     "ename": "SyntaxError",
     "evalue": "invalid syntax (Temp/ipykernel_10548/440191881.py, line 1)",
     "output_type": "error",
     "traceback": [
      "\u001b[1;36m  File \u001b[1;32m\"C:\\Users\\KIIT\\AppData\\Local\\Temp/ipykernel_10548/440191881.py\"\u001b[1;36m, line \u001b[1;32m1\u001b[0m\n\u001b[1;33m    >\u001b[0m\n\u001b[1;37m    ^\u001b[0m\n\u001b[1;31mSyntaxError\u001b[0m\u001b[1;31m:\u001b[0m invalid syntax\n"
     ]
    }
   ],
   "source": [
    ">\n",
    "<\n",
    ">=\n",
    "<=\n",
    "!=\n",
    "==\n"
   ]
  },
  {
   "cell_type": "markdown",
   "id": "85865f96",
   "metadata": {},
   "source": [
    "**How do you tell the difference between the equal to and assignment operators?Describe a\n",
    "condition and when you would use one.**"
   ]
  },
  {
   "cell_type": "markdown",
   "id": "4ad8402a",
   "metadata": {},
   "source": [
    "* equal to have one =\n",
    "* assigment operator have two =="
   ]
  },
  {
   "cell_type": "markdown",
   "id": "5f89f952",
   "metadata": {},
   "source": [
    "assigning variable we use equal to"
   ]
  },
  {
   "cell_type": "code",
   "execution_count": 14,
   "id": "8cd9f5b5",
   "metadata": {},
   "outputs": [],
   "source": [
    "x=76"
   ]
  },
  {
   "cell_type": "markdown",
   "id": "d841f864",
   "metadata": {},
   "source": [
    "comapring we use assigment operators"
   ]
  },
  {
   "cell_type": "code",
   "execution_count": 15,
   "id": "a6676297",
   "metadata": {},
   "outputs": [
    {
     "data": {
      "text/plain": [
       "True"
      ]
     },
     "execution_count": 15,
     "metadata": {},
     "output_type": "execute_result"
    }
   ],
   "source": [
    "6==6"
   ]
  },
  {
   "cell_type": "markdown",
   "id": "7c267160",
   "metadata": {},
   "source": [
    "**Identify the three blocks in this code:**"
   ]
  },
  {
   "cell_type": "code",
   "execution_count": 16,
   "id": "d6731dfa",
   "metadata": {},
   "outputs": [
    {
     "name": "stdout",
     "output_type": "stream",
     "text": [
      "eggs\n",
      "ham\n",
      "spam\n",
      "spam\n"
     ]
    }
   ],
   "source": [
    "spam=0\n",
    "if spam==0: #first block\n",
    "    print(\"eggs\")\n",
    "if spam >5 : # second block \n",
    "    print(\"bacon\")\n",
    "else : #third block\n",
    "    print(\"ham\")\n",
    "    print(\"spam\")\n",
    "    print(\"spam\")"
   ]
  },
  {
   "cell_type": "markdown",
   "id": "775136d3",
   "metadata": {},
   "source": [
    "**Write code that prints Hello if 1 is stored in spam, prints Howdy if 2 is stored in spam, and prints\n",
    "Greetings! if anything else is stored in spam.**"
   ]
  },
  {
   "cell_type": "code",
   "execution_count": 17,
   "id": "ac489815",
   "metadata": {},
   "outputs": [
    {
     "name": "stdout",
     "output_type": "stream",
     "text": [
      "Greetings!\n"
     ]
    }
   ],
   "source": [
    "spam=0\n",
    "if spam==1:\n",
    "    print(\"Hello\")\n",
    "elif spam==2:\n",
    "    print(\"Howdy\")\n",
    "else:\n",
    "    print(\"Greetings!\")"
   ]
  },
  {
   "cell_type": "markdown",
   "id": "2c92529c",
   "metadata": {},
   "source": [
    "**If your programme is stuck in an endless loop, what keys you’ll press?**"
   ]
  },
  {
   "cell_type": "raw",
   "id": "e0cbb8de",
   "metadata": {},
   "source": [
    "ctrl + c"
   ]
  },
  {
   "cell_type": "markdown",
   "id": "5668ef7f",
   "metadata": {},
   "source": [
    "**How can you tell the difference between break and continue?**"
   ]
  },
  {
   "cell_type": "markdown",
   "id": "d4595692",
   "metadata": {},
   "source": [
    "The main difference between both the statements is that when break keyword comes, it terminates the execution of the current loop and passes the control over the next loop or main body, whereas when continue keyword is encountered, it skips the current iteration and executes the very next iteration in the loop."
   ]
  },
  {
   "cell_type": "markdown",
   "id": "391c6ee4",
   "metadata": {},
   "source": [
    "**In a for loop, what is the difference between range(10), range(0, 10), and range(0, 10, 1)?**"
   ]
  },
  {
   "cell_type": "markdown",
   "id": "cf86b40e",
   "metadata": {},
   "source": [
    "* range(10): here only the end index is given \n",
    "* range(0,10): here both start and end index is given \n",
    "* range(0,10,1) : here start, end and step size is given "
   ]
  },
  {
   "cell_type": "markdown",
   "id": "1f6fe10f",
   "metadata": {},
   "source": [
    "**Write a short program that prints the numbers 1 to 10 using a for loop. Then write an equivalent\n",
    "program that prints the numbers 1 to 10 using a while loop.**"
   ]
  },
  {
   "cell_type": "code",
   "execution_count": 21,
   "id": "34f73636",
   "metadata": {},
   "outputs": [
    {
     "name": "stdout",
     "output_type": "stream",
     "text": [
      "0\n",
      "1\n",
      "2\n",
      "3\n",
      "4\n",
      "5\n",
      "6\n",
      "7\n",
      "8\n",
      "9\n",
      "10\n"
     ]
    }
   ],
   "source": [
    "for i in range (11):\n",
    "    print(i)"
   ]
  },
  {
   "cell_type": "code",
   "execution_count": 1,
   "id": "70c48873",
   "metadata": {},
   "outputs": [
    {
     "name": "stdout",
     "output_type": "stream",
     "text": [
      "0\n",
      "1\n",
      "2\n",
      "3\n",
      "4\n",
      "5\n",
      "6\n",
      "7\n",
      "8\n",
      "9\n",
      "10\n"
     ]
    }
   ],
   "source": [
    "i=0\n",
    "while i<=10:\n",
    "    print(i)\n",
    "    i+=1"
   ]
  },
  {
   "cell_type": "markdown",
   "id": "60565b25",
   "metadata": {},
   "source": [
    "**13. If you had a function named bacon() inside a module named spam, how would you call it after\n",
    "importing spam?**"
   ]
  },
  {
   "cell_type": "markdown",
   "id": "28664b4d",
   "metadata": {},
   "source": [
    "spam. bacon()"
   ]
  },
  {
   "cell_type": "code",
   "execution_count": null,
   "id": "e864d144",
   "metadata": {},
   "outputs": [],
   "source": []
  }
 ],
 "metadata": {
  "kernelspec": {
   "display_name": "Python 3 (ipykernel)",
   "language": "python",
   "name": "python3"
  },
  "language_info": {
   "codemirror_mode": {
    "name": "ipython",
    "version": 3
   },
   "file_extension": ".py",
   "mimetype": "text/x-python",
   "name": "python",
   "nbconvert_exporter": "python",
   "pygments_lexer": "ipython3",
   "version": "3.9.7"
  }
 },
 "nbformat": 4,
 "nbformat_minor": 5
}
