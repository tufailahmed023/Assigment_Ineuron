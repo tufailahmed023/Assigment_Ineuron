{
 "cells": [
  {
   "cell_type": "code",
   "execution_count": null,
   "id": "0764a4c4",
   "metadata": {},
   "outputs": [],
   "source": [
    " *,- ,/ ,+ "
   ]
  },
  {
   "cell_type": "markdown",
   "id": "6a9e3b54",
   "metadata": {},
   "source": [
    "**What is the difference between string and variable?**"
   ]
  },
  {
   "cell_type": "markdown",
   "id": "e141ae6a",
   "metadata": {},
   "source": [
    "A Variable is a store of information, and a String is a type of information you would store in a Variable./n\n",
    "example : string \"heloo\" , variable x=\"hey\" here x is a variable"
   ]
  },
  {
   "cell_type": "markdown",
   "id": "59c3e654",
   "metadata": {},
   "source": [
    "**Describe three different data types.**"
   ]
  },
  {
   "cell_type": "markdown",
   "id": "54304758",
   "metadata": {},
   "source": [
    "* \n",
    "list : Lists are used to store multiple items in a single variable\n",
    "* \n",
    "Dictionary : Dictionaries are used to store data values in key:value pairs. A dictionary is a collection which is ordered*, changeable and do not allow duplicates\n",
    "* \n",
    "Tuple :Tuples are used to store multiple items in a single variable"
   ]
  },
  {
   "cell_type": "markdown",
   "id": "06d34028",
   "metadata": {},
   "source": [
    "**What is an expression made up of? What do all expressions do?**"
   ]
  },
  {
   "cell_type": "markdown",
   "id": "3394d444",
   "metadata": {},
   "source": [
    "An expression is a combination of operators and operands that is interpreted to produce some other value. In any programming language, an expression is evaluated as per the precedence of its operators. So that if there is more than one operator in an expression, their precedence decides which operation will be performed first."
   ]
  },
  {
   "cell_type": "markdown",
   "id": "6b4f7275",
   "metadata": {},
   "source": [
    "**This assignment statements, like spam = 10. What is the difference between an\n",
    "expression and a statement?**"
   ]
  },
  {
   "cell_type": "markdown",
   "id": "b9272fd5",
   "metadata": {},
   "source": [
    "An “expression” is a combination of values and functions that are combined and interpreted by the compiler to create a new value, as opposed to a “statement” which is just a standalone unit of execution and doesn't return anything."
   ]
  },
  {
   "cell_type": "markdown",
   "id": "96f0030d",
   "metadata": {},
   "source": [
    "**After running the following code, what does the variable bacon contain?\n",
    "bacon = 22\n",
    "bacon + 1**"
   ]
  },
  {
   "cell_type": "code",
   "execution_count": 2,
   "id": "00ac495a",
   "metadata": {},
   "outputs": [
    {
     "data": {
      "text/plain": [
       "23"
      ]
     },
     "execution_count": 2,
     "metadata": {},
     "output_type": "execute_result"
    }
   ],
   "source": [
    "baccon=22\n",
    "baccon +1"
   ]
  },
  {
   "cell_type": "markdown",
   "id": "351ed3f1",
   "metadata": {},
   "source": [
    "**What should the values of the following two terms be?\n",
    "&spam& + spamspam\n",
    ";spam* 3**"
   ]
  },
  {
   "cell_type": "code",
   "execution_count": 3,
   "id": "54037560",
   "metadata": {},
   "outputs": [
    {
     "data": {
      "text/plain": [
       "'spamspamspam'"
      ]
     },
     "execution_count": 3,
     "metadata": {},
     "output_type": "execute_result"
    }
   ],
   "source": [
    "\"spam\"+\"spamspam\""
   ]
  },
  {
   "cell_type": "code",
   "execution_count": 4,
   "id": "3ff31977",
   "metadata": {},
   "outputs": [
    {
     "data": {
      "text/plain": [
       "'spamspamspam'"
      ]
     },
     "execution_count": 4,
     "metadata": {},
     "output_type": "execute_result"
    }
   ],
   "source": [
    "\"spam\"*3"
   ]
  },
  {
   "cell_type": "markdown",
   "id": "db3e607e",
   "metadata": {},
   "source": [
    "**Why is eggs a valid variable name while 100 is invalid?**"
   ]
  },
  {
   "cell_type": "markdown",
   "id": "34348db7",
   "metadata": {},
   "source": [
    "Because variable names cannot begin with a number"
   ]
  },
  {
   "cell_type": "markdown",
   "id": "7d4af971",
   "metadata": {},
   "source": [
    "**What three functions can be used to get the integer, floating-point number, or string\n",
    "version of a value?**"
   ]
  },
  {
   "cell_type": "markdown",
   "id": "d3a654c2",
   "metadata": {},
   "source": [
    "* \n",
    "int\n",
    "* \n",
    "float\n",
    "* \n",
    "str"
   ]
  },
  {
   "cell_type": "markdown",
   "id": "3e486338",
   "metadata": {},
   "source": [
    "**Why does this expression cause an error? How can you fix it?\n",
    "\"I have eaten\" + 99 +\"burritos\"**"
   ]
  },
  {
   "cell_type": "markdown",
   "id": "b9bb4e7c",
   "metadata": {},
   "source": [
    "can only concatenate str (not \"int\") to str"
   ]
  },
  {
   "cell_type": "code",
   "execution_count": 7,
   "id": "5026c68c",
   "metadata": {},
   "outputs": [
    {
     "data": {
      "text/plain": [
       "'i have eaten99burritos.'"
      ]
     },
     "execution_count": 7,
     "metadata": {},
     "output_type": "execute_result"
    }
   ],
   "source": [
    "\"i have eaten\"+\"99\"+\"burritos.\""
   ]
  },
  {
   "cell_type": "code",
   "execution_count": null,
   "id": "5673bfb8",
   "metadata": {},
   "outputs": [],
   "source": []
  }
 ],
 "metadata": {
  "kernelspec": {
   "display_name": "Python 3 (ipykernel)",
   "language": "python",
   "name": "python3"
  },
  "language_info": {
   "codemirror_mode": {
    "name": "ipython",
    "version": 3
   },
   "file_extension": ".py",
   "mimetype": "text/x-python",
   "name": "python",
   "nbconvert_exporter": "python",
   "pygments_lexer": "ipython3",
   "version": "3.9.7"
  }
 },
 "nbformat": 4,
 "nbformat_minor": 5
}
